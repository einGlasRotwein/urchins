{
 "cells": [
  {
   "cell_type": "code",
   "execution_count": 1,
   "metadata": {},
   "outputs": [],
   "source": [
    "import torch\n",
    "import os, requests\n",
    "import numpy as np\n",
    "import pandas as pd\n",
    "from sklearn.model_selection import train_test_split, KFold\n",
    "from sklearn.metrics import mean_squared_error, accuracy_score\n",
    "from sklearn.utils import shuffle\n",
    "import random\n",
    "from scipy import stats\n",
    "import torch.optim as optim\n",
    "from sklearn.preprocessing import StandardScaler"
   ]
  },
  {
   "cell_type": "code",
   "execution_count": 5,
   "metadata": {},
   "outputs": [],
   "source": [
    "def pytorch_mlp(X, y): \n",
    "    D_in, H, D_out = X.shape[1], 100, 1\n",
    "    kf = KFold(n_splits=5)\n",
    "    kf.get_n_splits(X)\n",
    "    test_accs = []\n",
    "    for train_index, test_index in kf.split(X):\n",
    "        X_train, X_test = X[train_index], X[test_index]\n",
    "        y_train, y_test = y[train_index], y[test_index]\n",
    "        X_train, X_test, y_train, y_test = train_test_split(X, y, test_size=0.2)\n",
    "        X_train, X_test = torch.from_numpy(X_train), torch.from_numpy(X_test)\n",
    "        y_train = torch.from_numpy(y_train)\n",
    "        model = torch.nn.Sequential(\n",
    "            torch.nn.Linear(D_in, H),\n",
    "            torch.nn.Dropout(0.5),\n",
    "            torch.nn.ReLU(),\n",
    "            torch.nn.Linear(H, D_out),\n",
    "            torch.nn.Dropout(0.2)\n",
    "        )\n",
    "        learning_rate = 1e-2\n",
    "        loss_fn = torch.nn.BCEWithLogitsLoss()\n",
    "        optimizer = optim.Adam(model.parameters(), lr=learning_rate)\n",
    "        for t in range(500):\n",
    "            y_pred = model(X_train.float())\n",
    "            loss = loss_fn(y_pred.squeeze(), y_train.float())\n",
    "            model.zero_grad()\n",
    "            loss.backward()\n",
    "            optimizer.step()\n",
    "            with torch.no_grad():\n",
    "                for param in model.parameters():\n",
    "                    param -= learning_rate * param.grad\n",
    "        y_test_pred = model(X_test.float())\n",
    "        y_test_pred = torch.sigmoid(y_test_pred)\n",
    "        y_pred_tag = torch.round(y_test_pred)\n",
    "        test_acc = accuracy_score(y_pred_tag.detach().numpy(), y_test)\n",
    "        print(test_acc)\n",
    "        test_accs.append(test_acc)\n",
    "    return np.asarray(test_accs).mean(), stats.sem(np.asarray(test_accs))"
   ]
  },
  {
   "cell_type": "code",
   "execution_count": 6,
   "metadata": {},
   "outputs": [
    {
     "name": "stdout",
     "output_type": "stream",
     "text": [
      "0.8947368421052632\n",
      "0.631578947368421\n",
      "0.6842105263157895\n",
      "0.42105263157894735\n",
      "0.7368421052631579\n",
      "0.6736842105263158 0.07699336230698839\n",
      "0.42105263157894735\n",
      "0.5789473684210527\n",
      "0.631578947368421\n",
      "0.5789473684210527\n",
      "0.2631578947368421\n",
      "0.4947368421052631 0.06781104593013224\n"
     ]
    }
   ],
   "source": [
    "data11 = np.load('data_11_pca.npz')\n",
    "X = data11['data']\n",
    "y = data11['labels']\n",
    "X, y = shuffle(X, y)\n",
    "\n",
    "acc_11_pca, sem_11_pca = pytorch_mlp(X,y)\n",
    "print(acc_11_pca, sem_11_pca)\n",
    "\n",
    "random.shuffle(y)\n",
    "acc_11_pca_random, sem_11_pca_random = pytorch_mlp(X,y)\n",
    "print(acc_11_pca_random, sem_11_pca_random)"
   ]
  },
  {
   "cell_type": "code",
   "execution_count": 7,
   "metadata": {},
   "outputs": [
    {
     "name": "stdout",
     "output_type": "stream",
     "text": [
      "0.4672897196261682\n",
      "0.5046728971962616\n",
      "0.48598130841121495\n",
      "0.45794392523364486\n",
      "0.4672897196261682\n",
      "0.47663551401869153 0.008359132626167429\n",
      "0.4485981308411215\n",
      "0.5887850467289719\n",
      "0.5887850467289719\n",
      "0.4485981308411215\n",
      "0.4392523364485981\n",
      "0.502803738317757 0.035143169489650766\n"
     ]
    }
   ],
   "source": [
    "data_all = np.load('data_all_pca.npz')\n",
    "X = data_all['data']\n",
    "y = data_all['labels']\n",
    "X, y = shuffle(X, y)\n",
    "\n",
    "acc_all_pca, sem_all_pca = pytorch_mlp(X,y)\n",
    "print(acc_all_pca, sem_all_pca)\n",
    "\n",
    "random.shuffle(y)\n",
    "acc_all_pca_random, sem_all_pca_random = pytorch_mlp(X,y)\n",
    "print(acc_all_pca_random, sem_all_pca_random)"
   ]
  }
 ],
 "metadata": {
  "kernelspec": {
   "display_name": "env_pytorch",
   "language": "python",
   "name": "env_pytorch"
  },
  "language_info": {
   "codemirror_mode": {
    "name": "ipython",
    "version": 3
   },
   "file_extension": ".py",
   "mimetype": "text/x-python",
   "name": "python",
   "nbconvert_exporter": "python",
   "pygments_lexer": "ipython3",
   "version": "3.6.10"
  }
 },
 "nbformat": 4,
 "nbformat_minor": 4
}
