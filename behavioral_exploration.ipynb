{
 "cells": [
  {
   "cell_type": "markdown",
   "metadata": {},
   "source": [
    "## Setup"
   ]
  },
  {
   "cell_type": "markdown",
   "metadata": {},
   "source": [
    "`alldat` contains 39 sessions from 10 mice, data from Steinmetz et al, 2019. Time bins for all measurements are 10ms, starting 500ms before stimulus onset. The mouse had to determine which side has the highest contrast. For each `dat = alldat[k]`, you have the following fields:\n",
    "\n",
    "* `dat['mouse_name']`: mouse name\n",
    "* `dat['date_exp']`: when a session was performed\n",
    "* `dat['spks']`: neurons by trials by time bins.    \n",
    "* `dat['brain_area']`: brain area for each neuron recorded. \n",
    "* `dat['contrast_right']`: contrast level for the right stimulus, which is always contralateral to the recorded brain areas.\n",
    "* `dat['contrast_left']`: contrast level for left stimulus. \n",
    "* `dat['gocue']`: when the go cue sound was played. \n",
    "* `dat['response_times']`: when the response was registered, which has to be after the go cue. The mouse can turn the wheel before the go cue (and nearly always does!), but the stimulus on the screen won't move before the go cue.  \n",
    "* `dat['response']`: which side the response was (`-1`, `0`, `1`). When the right-side stimulus had higher contrast, the correct choice was `-1`. `0` is a no go response. \n",
    "* `dat['feedback_time']`: when feedback was provided. \n",
    "* `dat['feedback_type']`: if the feedback was positive (`+1`, reward) or negative (`-1`, white noise burst).  \n",
    "* `dat['wheel']`: exact position of the wheel that the mice uses to make a response, binned at `10ms`. \n",
    "* `dat['pupil']`: pupil area  (noisy, because pupil is very small) + pupil horizontal and vertical position. \n",
    "* `dat['lfp']`: recording of the local field potential in each brain area from this experiment, binned at `10ms`.\n",
    "* `dat['brain_area_lfp']`: brain area names for the LFP channels. \n",
    "* `dat['trough_to_peak']`: measures the width of the action potential waveform for each neuron. Widths `<=10` samples are \"putative fast spiking neurons\". \n",
    "* `dat['waveform_w']`: temporal components of spike waveforms. `w@u` reconstructs the time by channels action potential shape. \n",
    "* `dat['waveform_u]`: spatial components of spike waveforms.\n",
    "* `dat['%X%_passive']`: same as above for `X` = {`spks`, `lfp`, `pupil`, `wheel`, `contrast_left`, `contrast_right`} but for  passive trials at the end of the recording when the mouse was no longer engaged and stopped making responses. "
   ]
  },
  {
   "cell_type": "code",
   "execution_count": 1,
   "metadata": {},
   "outputs": [],
   "source": [
    "import numpy as np\n",
    "import matplotlib.pyplot as plt\n",
    "\n",
    "from matplotlib import rcParams \n",
    "from matplotlib import pyplot as plt\n",
    "rcParams['figure.figsize'] = [20, 4]\n",
    "rcParams['font.size'] =20\n",
    "rcParams['axes.spines.top'] = False\n",
    "rcParams['axes.spines.right'] = False\n",
    "rcParams['figure.autolayout'] = True"
   ]
  },
  {
   "cell_type": "markdown",
   "metadata": {},
   "source": [
    "## Load all data and store trial data as a dataframe"
   ]
  },
  {
   "cell_type": "code",
   "execution_count": 2,
   "metadata": {},
   "outputs": [],
   "source": [
    "alldat = np.array([])\n",
    "\n",
    "for j in range(1,4):\n",
    "    alldat = np.hstack((alldat, np.load('data/steinmetz_part%d.npz'%j, allow_pickle=True)['dat']))"
   ]
  },
  {
   "cell_type": "code",
   "execution_count": 188,
   "metadata": {},
   "outputs": [
    {
     "name": "stdout",
     "output_type": "stream",
     "text": [
      "spks (1172, 447, 250)\n",
      "wheel (1, 447, 250)\n",
      "pupil (3, 447, 250)\n",
      "lfp (12, 447, 250)\n",
      "response (447,)\n",
      "response_time (447, 1)\n",
      "bin_size ()\n",
      "stim_onset ()\n",
      "contrast_right (447,)\n",
      "contrast_left (447,)\n",
      "brain_area (1172,)\n",
      "brain_area_lfp (12,)\n",
      "feedback_time (447, 1)\n",
      "feedback_type (447,)\n",
      "gocue (447, 1)\n",
      "mouse_name ()\n",
      "date_exp ()\n",
      "trough_to_peak (1172,)\n",
      "waveform_w (1172, 82, 3)\n",
      "waveform_u (1172, 3, 384)\n",
      "active_trials (557,)\n",
      "contrast_left_passive (110,)\n",
      "contrast_right_passive (110,)\n",
      "spks_passive (1172, 110, 250)\n",
      "lfp_passive (12, 110, 250)\n",
      "pupil_passive (3, 110, 250)\n",
      "wheel_passive (1, 110, 250)\n"
     ]
    }
   ],
   "source": [
    "# Take a look\n",
    "for key in dat.keys():\n",
    "    print(key, np.array(dat[key]).shape)"
   ]
  },
  {
   "cell_type": "code",
   "execution_count": 48,
   "metadata": {},
   "outputs": [],
   "source": [
    "import pandas as pd\n",
    "\n",
    "behavior_all = pd.DataFrame()\n",
    "variables = ['response','feedback_type','contrast_right','contrast_left','response_time']\n",
    "\n",
    "for session in range(len(alldat)):\n",
    "    #alldat[session]['response_time']=alldat[session]['response_time'][:,0]\n",
    "    behavior = pd.DataFrame()\n",
    "    for variable in variables:\n",
    "        column = pd.Series(alldat[session][variable])\n",
    "        behavior = pd.concat([behavior, column], axis=1)\n",
    "    behavior.columns = variables\n",
    "    behavior['mouse'] = alldat[session]['mouse_name']\n",
    "    behavior['session'] = session+1\n",
    "    behavior_all = pd.concat([behavior_all, behavior], axis=0)\n",
    "\n",
    "behavior_all['contrast_diff'] = behavior_all['contrast_right'] - behavior_all['contrast_left']\n",
    "behavior_all['contrast_diff_abs'] = np.abs(behavior_all['contrast_diff'])\n",
    "\n",
    "no_go = np.logical_and(behavior_all['contrast_right'] == 0, \n",
    "               behavior_all['contrast_left'] == 0)\n",
    "condition = ['no_go' if i == True else 'go' for i in no_go ]\n",
    "behavior_all['condition'] = condition \n",
    "\n",
    "behavior_all.to_csv('data/behavioral_data.csv', index=False)"
   ]
  },
  {
   "cell_type": "markdown",
   "metadata": {},
   "source": [
    "## Response time"
   ]
  },
  {
   "cell_type": "code",
   "execution_count": 160,
   "metadata": {},
   "outputs": [],
   "source": [
    "behavior['contrast_diff'] = behavior['contrast_right'] - behavior['contrast_left']\n",
    "behavior['contrast_diff_abs'] = np.abs(behavior['contrast_diff'])\n",
    "\n",
    "no_go = np.logical_and(behavior['contrast_right'] == 0, \n",
    "               behavior['contrast_left'] == 0)\n",
    "condition = ['no_go' if i == True else 'go' for i in no_go ]\n",
    "behavior['condition'] = condition "
   ]
  },
  {
   "cell_type": "code",
   "execution_count": 73,
   "metadata": {},
   "outputs": [
    {
     "data": {
      "text/plain": [
       "<seaborn.axisgrid.FacetGrid at 0x7f833468b208>"
      ]
     },
     "execution_count": 73,
     "metadata": {},
     "output_type": "execute_result"
    },
    {
     "name": "stderr",
     "output_type": "stream",
     "text": [
      "/home/finc/anaconda3/lib/python3.7/site-packages/matplotlib/figure.py:2369: UserWarning: This figure includes Axes that are not compatible with tight_layout, so results might be incorrect.\n",
      "  warnings.warn(\"This figure includes Axes that are not compatible \"\n"
     ]
    },
    {
     "data": {
      "image/png": "[encoded data removed]",
      "text/plain": [
       "<Figure size 720x360 with 2 Axes>"
      ]
     },
     "metadata": {
      "needs_background": "light"
     },
     "output_type": "display_data"
    }
   ],
   "source": [
    "import seaborn as sns\n",
    "behavior_mean = behavior_all.groupby([\"contrast_diff_abs\", \"condition\", \"session\"]).mean().reset_index()\n",
    "sns.catplot('contrast_diff_abs', 'response_time', data = behavior_mean, col='condition', kind=\"box\")"
   ]
  },
  {
   "cell_type": "markdown",
   "metadata": {},
   "source": [
    "## Accuracy"
   ]
  },
  {
   "cell_type": "code",
   "execution_count": 74,
   "metadata": {},
   "outputs": [
    {
     "data": {
      "text/plain": [
       "<seaborn.axisgrid.FacetGrid at 0x7f83344f7cc0>"
      ]
     },
     "execution_count": 74,
     "metadata": {},
     "output_type": "execute_result"
    },
    {
     "name": "stderr",
     "output_type": "stream",
     "text": [
      "/home/finc/anaconda3/lib/python3.7/site-packages/matplotlib/figure.py:2369: UserWarning: This figure includes Axes that are not compatible with tight_layout, so results might be incorrect.\n",
      "  warnings.warn(\"This figure includes Axes that are not compatible \"\n"
     ]
    },
    {
     "data": {
      "image/png": "[encoded data removed]",
      "text/plain": [
       "<Figure size 720x360 with 2 Axes>"
      ]
     },
     "metadata": {
      "needs_background": "light"
     },
     "output_type": "display_data"
    }
   ],
   "source": [
    "sns.catplot('contrast_diff_abs', 'feedback_type', data = behavior_mean, col='condition', kind=\"box\")"
   ]
  }
 ],
 "metadata": {
  "kernelspec": {
   "display_name": "Python 3",
   "language": "python",
   "name": "python3"
  },
  "language_info": {
   "codemirror_mode": {
    "name": "ipython",
    "version": 3
   },
   "file_extension": ".py",
   "mimetype": "text/x-python",
   "name": "python",
   "nbconvert_exporter": "python",
   "pygments_lexer": "ipython3",
   "version": "3.7.3"
  },
  "widgets": {
   "application/vnd.jupyter.widget-state+json": {
    "state": {},
    "version_major": 2,
    "version_minor": 0
   }
  }
 },
 "nbformat": 4,
 "nbformat_minor": 4
}
